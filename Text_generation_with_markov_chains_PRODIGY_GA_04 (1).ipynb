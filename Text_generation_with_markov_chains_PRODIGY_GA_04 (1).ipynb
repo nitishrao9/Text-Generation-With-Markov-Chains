{
  "nbformat": 4,
  "nbformat_minor": 0,
  "metadata": {
    "colab": {
      "provenance": []
    },
    "kernelspec": {
      "name": "python3",
      "display_name": "Python 3"
    },
    "language_info": {
      "name": "python"
    }
  },
  "cells": [
    {
      "cell_type": "code",
      "execution_count": 1,
      "metadata": {
        "colab": {
          "base_uri": "https://localhost:8080/"
        },
        "id": "zpN1S4qAQjOs",
        "outputId": "410bc315-00ee-4b2a-fa99-7c90fb5521d0"
      },
      "outputs": [
        {
          "output_type": "stream",
          "name": "stdout",
          "text": [
            "Mounted at /content/drive\n"
          ]
        }
      ],
      "source": [
        "from google.colab import drive\n",
        "drive.mount('/content/drive')"
      ]
    },
    {
      "cell_type": "code",
      "source": [
        "%cd /content/drive/My Drive/Colab Notebooks"
      ],
      "metadata": {
        "colab": {
          "base_uri": "https://localhost:8080/"
        },
        "id": "XaOHQzvwQkqE",
        "outputId": "9aa4df20-ed21-4d8c-ff32-e1d14e46e6eb"
      },
      "execution_count": 2,
      "outputs": [
        {
          "output_type": "stream",
          "name": "stdout",
          "text": [
            "/content/drive/My Drive/Colab Notebooks\n"
          ]
        }
      ]
    },
    {
      "cell_type": "code",
      "source": [
        "!pip install markovify"
      ],
      "metadata": {
        "colab": {
          "base_uri": "https://localhost:8080/"
        },
        "id": "w5rRfHgSQwvU",
        "outputId": "595e6bec-68cb-4353-e28e-0d75cf956b4d"
      },
      "execution_count": 3,
      "outputs": [
        {
          "output_type": "stream",
          "name": "stdout",
          "text": [
            "Collecting markovify\n",
            "  Downloading markovify-0.9.4.tar.gz (27 kB)\n",
            "  Preparing metadata (setup.py) ... \u001b[?25l\u001b[?25hdone\n",
            "Collecting unidecode (from markovify)\n",
            "  Downloading Unidecode-1.3.8-py3-none-any.whl.metadata (13 kB)\n",
            "Downloading Unidecode-1.3.8-py3-none-any.whl (235 kB)\n",
            "\u001b[2K   \u001b[90m━━━━━━━━━━━━━━━━━━━━━━━━━━━━━━━━━━━━━━━━\u001b[0m \u001b[32m235.5/235.5 kB\u001b[0m \u001b[31m9.5 MB/s\u001b[0m eta \u001b[36m0:00:00\u001b[0m\n",
            "\u001b[?25hBuilding wheels for collected packages: markovify\n",
            "  Building wheel for markovify (setup.py) ... \u001b[?25l\u001b[?25hdone\n",
            "  Created wheel for markovify: filename=markovify-0.9.4-py3-none-any.whl size=18605 sha256=6c88feb9ea5c61f611ff118680b99e521495594fb489689988dae765279cc415\n",
            "  Stored in directory: /root/.cache/pip/wheels/ca/8c/c5/41413e24c484f883a100c63ca7b3b0362b7c6f6eb6d7c9cc7f\n",
            "Successfully built markovify\n",
            "Installing collected packages: unidecode, markovify\n",
            "Successfully installed markovify-0.9.4 unidecode-1.3.8\n"
          ]
        }
      ]
    },
    {
      "cell_type": "code",
      "source": [
        "import markovify\n",
        "import pandas as pd\n",
        "df = pd.read_csv(\"/content/airport_reviews.csv.zip\")"
      ],
      "metadata": {
        "id": "cLofy-GURrf8"
      },
      "execution_count": 5,
      "outputs": []
    },
    {
      "cell_type": "code",
      "source": [
        "from itertools import chain\n",
        "N=100\n",
        "review_subset = df[\"content\"][0:N]\n",
        "text = \"\".join(chain.from_iterable(review_subset))\n",
        "markov_Chain_model = markovify.Text(text)"
      ],
      "metadata": {
        "id": "5o9P1BxJRvkI"
      },
      "execution_count": 6,
      "outputs": []
    },
    {
      "cell_type": "code",
      "source": [
        "for i in range(5):\n",
        "  print(markov_Chain_model.make_sentence())"
      ],
      "metadata": {
        "colab": {
          "base_uri": "https://localhost:8080/"
        },
        "id": "y4XoARGsRzm9",
        "outputId": "36f71e02-e11c-4bf9-c6be-c178a9be4ef3"
      },
      "execution_count": 7,
      "outputs": [
        {
          "output_type": "stream",
          "name": "stdout",
          "text": [
            "When recently departing the airport would be surely bored.\n",
            "Baggage drop off was very rude and bored staff and queues getting longer each month.\n",
            "This is very poor.\n",
            "It does look like a nice welcome from the officer checking my passport.\n",
            "Not many things to look for while waiting for his drink with no notice.\n"
          ]
        }
      ]
    },
    {
      "cell_type": "code",
      "source": [
        "for i in range(3):\n",
        "  print(markov_Chain_model.make_short_sentence(140))"
      ],
      "metadata": {
        "colab": {
          "base_uri": "https://localhost:8080/"
        },
        "id": "y6BL99XrR2qE",
        "outputId": "07403fa1-4f10-4d3d-8a68-bd15e642f715"
      },
      "execution_count": 8,
      "outputs": [
        {
          "output_type": "stream",
          "name": "stdout",
          "text": [
            "The only advantage of an almost 2hr transit between the flight arrivals back to Brussels Gare du Midi.\n",
            "The building and services are in the 15 or so after the passport check desks and it was slow moving.\n",
            "Terrible experience will avoid like the plague.I am always amazed about the plane across the tarmac ± 100 metres.\n"
          ]
        }
      ]
    },
    {
      "cell_type": "code",
      "source": [
        "for i in range(7):\n",
        "  print(markov_Chain_model.make_short_sentence(200))"
      ],
      "metadata": {
        "colab": {
          "base_uri": "https://localhost:8080/"
        },
        "id": "ZXZTsVOZ8_cI",
        "outputId": "ba18299c-0596-41a5-bb55-8d95215e1247"
      },
      "execution_count": 9,
      "outputs": [
        {
          "output_type": "stream",
          "name": "stdout",
          "text": [
            "Check in with Brussels airlines bound to Milan was smooth.\n",
            "Luggage takes average up to 2 hours.\n",
            "As usual there were no queues anywhere and staff were kindly waiting for his luggage you may have to wait.\n",
            "The check-in hall the security staff were rude and bored staff and queues stretched out of the airport maximises transfer times due to clear and good signages.\n",
            "I had quite a hike to the terminal to the centre of the terminals is daft and often requires a hiking expedition to get me moving.\n",
            "This airport is not accepted anywhere and staff dealt with all nationalities in a wait of approx 90 mins to clear it.\n",
            "Found the airport and city is horrendously slow - the road network is wholly inadequate for a very bad experience and no credit cards.\n"
          ]
        }
      ]
    },
    {
      "cell_type": "markdown",
      "source": [
        "1. We import markovify library, a library for Markov Chain computations and reading in text which we will inform at our Markov Model\n",
        "\n",
        "2. We create a Markov Chain Model using the text\n",
        "\n",
        "3. We generaate a few sentences\n",
        "\n",
        "4. We create a few tweets in the style of the airport reviews using our Markov Chain"
      ],
      "metadata": {
        "id": "S7nzY4Dl9oR2"
      }
    },
    {
      "cell_type": "code",
      "source": [],
      "metadata": {
        "id": "08cXCUGi-R3Y"
      },
      "execution_count": null,
      "outputs": []
    }
  ]
}